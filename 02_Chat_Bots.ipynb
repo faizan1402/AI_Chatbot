{
  "nbformat": 4,
  "nbformat_minor": 0,
  "metadata": {
    "kernelspec": {
      "display_name": "Python 3",
      "language": "python",
      "name": "python3"
    },
    "language_info": {
      "codemirror_mode": {
        "name": "ipython",
        "version": 3
      },
      "file_extension": ".py",
      "mimetype": "text/x-python",
      "name": "python",
      "nbconvert_exporter": "python",
      "pygments_lexer": "ipython3",
      "version": "3.6.6"
    },
    "colab": {
      "name": "02-Chat-Bots.ipynb",
      "provenance": [],
      "collapsed_sections": [],
      "include_colab_link": true
    }
  },
  "cells": [
    {
      "cell_type": "markdown",
      "metadata": {
        "id": "view-in-github",
        "colab_type": "text"
      },
      "source": [
        "<a href=\"https://colab.research.google.com/github/faizan1402/Question_Answer_Chatbot/blob/master/02_Chat_Bots.ipynb\" target=\"_parent\"><img src=\"https://colab.research.google.com/assets/colab-badge.svg\" alt=\"Open In Colab\"/></a>"
      ]
    },
    {
      "cell_type": "code",
      "metadata": {
        "id": "3hm_XLal3JNH"
      },
      "source": [
        ""
      ],
      "execution_count": null,
      "outputs": []
    },
    {
      "cell_type": "code",
      "metadata": {
        "id": "Z4ximD2O0gW4"
      },
      "source": [
        ""
      ],
      "execution_count": null,
      "outputs": []
    },
    {
      "cell_type": "markdown",
      "metadata": {
        "id": "LNwc7niN1H0D"
      },
      "source": [
        "#**CHATBOT - Using Natural Language Processing and Tensorflow**\n",
        "#**Contextual Chatbot - NLP and Tensorflow**\n",
        "\n",
        "In this Jupyter Notebook, We are going to Build a Chatbot that Understands the Context of Sentense and Respond accordingly. These are the Things that we are going to do in this Project -\n",
        "1-Transforming the Conversational Intents into Tensorflow model (Neural Network using TFLEARN) using NLP and Save it as Pickle also\n",
        "2-Load the Same Pickle and Model to Build the Framework to Process the Responses\n",
        "3-At Last, We Show How the Inputs are Processed and Give the Reponses.\n",
        "#**TENSORFLOW**-\n",
        "TensorFlow is an end-to-end open source platform for machine learning. \n",
        "It has a comprehensive, flexible ecosystem of tools, libraries and community resources that lets researchers push the state-of-the-art in ML and developers easily build and deploy ML powered applications."
      ]
    },
    {
      "cell_type": "markdown",
      "metadata": {
        "id": "Dqq0_Atk0uRn"
      },
      "source": [
        "#**Question and Answer Chat Bots**"
      ]
    },
    {
      "cell_type": "code",
      "metadata": {
        "colab": {
          "base_uri": "https://localhost:8080/"
        },
        "id": "TutXzHin0kEN",
        "outputId": "859b10f7-73dc-4942-95bc-e5b047971336"
      },
      "source": [
        "from google.colab import drive\n",
        "drive.mount('/content/drive')"
      ],
      "execution_count": null,
      "outputs": [
        {
          "output_type": "stream",
          "text": [
            "Mounted at /content/drive\n"
          ],
          "name": "stdout"
        }
      ]
    },
    {
      "cell_type": "markdown",
      "metadata": {
        "id": "A6EWompkq7vt"
      },
      "source": [
        "----\n",
        "\n",
        "------"
      ]
    },
    {
      "cell_type": "markdown",
      "metadata": {
        "id": "SGpUv72Gq7vu"
      },
      "source": [
        "# **Loading the Data**\n",
        "\n",
        "We will be working with the Babi Data Set from Facebook Research\n",
        "\n",
        "\n",
        "  \"Towards AI-Complete Question Answering: A Set of Prerequisite Toy Tasks\"\n"
      ]
    },
    {
      "cell_type": "code",
      "metadata": {
        "id": "s1sTmaYFdIEt"
      },
      "source": [
        ""
      ],
      "execution_count": null,
      "outputs": []
    },
    {
      "cell_type": "markdown",
      "metadata": {
        "id": "EPH2x4BzdKCV"
      },
      "source": [
        "#**Loading The Data**"
      ]
    },
    {
      "cell_type": "code",
      "metadata": {
        "collapsed": true,
        "id": "JIYJEEXvq7vv"
      },
      "source": [
        "import pickle\n",
        "import numpy as np"
      ],
      "execution_count": null,
      "outputs": []
    },
    {
      "cell_type": "code",
      "metadata": {
        "collapsed": true,
        "id": "O0q3HQ-2q7vw"
      },
      "source": [
        "with open(\"train_qa.txt\", \"rb\") as fp:   # Unpickling\n",
        "    train_data =  pickle.load(fp)"
      ],
      "execution_count": null,
      "outputs": []
    },
    {
      "cell_type": "code",
      "metadata": {
        "collapsed": true,
        "id": "y1DDAcUZq7vx"
      },
      "source": [
        "with open(\"test_qa.txt\", \"rb\") as fp:   # Unpickling\n",
        "    test_data =  pickle.load(fp)"
      ],
      "execution_count": null,
      "outputs": []
    },
    {
      "cell_type": "markdown",
      "metadata": {
        "id": "JucMCUb-q7vx"
      },
      "source": [
        "----"
      ]
    },
    {
      "cell_type": "markdown",
      "metadata": {
        "id": "wZXh6YM3q7vx"
      },
      "source": [
        "## Exploring the Format of the Data"
      ]
    },
    {
      "cell_type": "code",
      "metadata": {
        "id": "qiNuusYJq7vy",
        "colab": {
          "base_uri": "https://localhost:8080/"
        },
        "outputId": "b49a9745-c577-480d-d520-71ed30323030"
      },
      "source": [
        "type(test_data)"
      ],
      "execution_count": null,
      "outputs": [
        {
          "output_type": "execute_result",
          "data": {
            "text/plain": [
              "list"
            ]
          },
          "metadata": {
            "tags": []
          },
          "execution_count": 8
        }
      ]
    },
    {
      "cell_type": "code",
      "metadata": {
        "id": "dk6WarNxq7v0",
        "outputId": "becdd001-5dac-486e-8ef7-e0fb66f919dc"
      },
      "source": [
        "type(train_data)"
      ],
      "execution_count": null,
      "outputs": [
        {
          "output_type": "execute_result",
          "data": {
            "text/plain": [
              "list"
            ]
          },
          "metadata": {
            "tags": []
          },
          "execution_count": 5
        }
      ]
    },
    {
      "cell_type": "code",
      "metadata": {
        "id": "La6fHBZIq7v2",
        "colab": {
          "base_uri": "https://localhost:8080/"
        },
        "outputId": "e8000a20-626a-474b-c62a-05066e62069c"
      },
      "source": [
        "len(test_data)"
      ],
      "execution_count": null,
      "outputs": [
        {
          "output_type": "execute_result",
          "data": {
            "text/plain": [
              "1000"
            ]
          },
          "metadata": {
            "tags": []
          },
          "execution_count": 9
        }
      ]
    },
    {
      "cell_type": "code",
      "metadata": {
        "id": "t1K36oC3q7v3",
        "colab": {
          "base_uri": "https://localhost:8080/"
        },
        "outputId": "7d20856a-a29d-4cca-dced-79d62d5d6d7b"
      },
      "source": [
        "len(train_data)"
      ],
      "execution_count": null,
      "outputs": [
        {
          "output_type": "execute_result",
          "data": {
            "text/plain": [
              "10000"
            ]
          },
          "metadata": {
            "tags": []
          },
          "execution_count": 10
        }
      ]
    },
    {
      "cell_type": "code",
      "metadata": {
        "colab": {
          "base_uri": "https://localhost:8080/"
        },
        "id": "pGtdKRC0q7v4",
        "outputId": "437b72f1-8585-4b90-ee5a-62440eef2a9d"
      },
      "source": [
        "train_data[0]"
      ],
      "execution_count": null,
      "outputs": [
        {
          "output_type": "execute_result",
          "data": {
            "text/plain": [
              "(['Mary',\n",
              "  'moved',\n",
              "  'to',\n",
              "  'the',\n",
              "  'bathroom',\n",
              "  '.',\n",
              "  'Sandra',\n",
              "  'journeyed',\n",
              "  'to',\n",
              "  'the',\n",
              "  'bedroom',\n",
              "  '.'],\n",
              " ['Is', 'Sandra', 'in', 'the', 'hallway', '?'],\n",
              " 'no')"
            ]
          },
          "metadata": {
            "tags": []
          },
          "execution_count": 11
        }
      ]
    },
    {
      "cell_type": "code",
      "metadata": {
        "id": "R2YUm-rdq7v4",
        "colab": {
          "base_uri": "https://localhost:8080/",
          "height": 35
        },
        "outputId": "e60096a2-c770-4fdf-e850-2b7aa2e67d4f"
      },
      "source": [
        "' '.join(train_data[0][0])"
      ],
      "execution_count": null,
      "outputs": [
        {
          "output_type": "execute_result",
          "data": {
            "application/vnd.google.colaboratory.intrinsic+json": {
              "type": "string"
            },
            "text/plain": [
              "'Mary moved to the bathroom . Sandra journeyed to the bedroom .'"
            ]
          },
          "metadata": {
            "tags": []
          },
          "execution_count": 12
        }
      ]
    },
    {
      "cell_type": "code",
      "metadata": {
        "id": "GHiSnt06q7v5",
        "colab": {
          "base_uri": "https://localhost:8080/",
          "height": 35
        },
        "outputId": "380122aa-5dfa-4785-d79d-f4f3cdb480bf"
      },
      "source": [
        "' '.join(train_data[0][1])"
      ],
      "execution_count": null,
      "outputs": [
        {
          "output_type": "execute_result",
          "data": {
            "application/vnd.google.colaboratory.intrinsic+json": {
              "type": "string"
            },
            "text/plain": [
              "'Is Sandra in the hallway ?'"
            ]
          },
          "metadata": {
            "tags": []
          },
          "execution_count": 13
        }
      ]
    },
    {
      "cell_type": "code",
      "metadata": {
        "id": "CQWKcu-yq7v5",
        "colab": {
          "base_uri": "https://localhost:8080/",
          "height": 35
        },
        "outputId": "fbf0f32f-bca7-46de-e5bc-8b82586d06a0"
      },
      "source": [
        "train_data[0][2]"
      ],
      "execution_count": null,
      "outputs": [
        {
          "output_type": "execute_result",
          "data": {
            "application/vnd.google.colaboratory.intrinsic+json": {
              "type": "string"
            },
            "text/plain": [
              "'no'"
            ]
          },
          "metadata": {
            "tags": []
          },
          "execution_count": 14
        }
      ]
    },
    {
      "cell_type": "markdown",
      "metadata": {
        "id": "K1QBLmMmq7v6"
      },
      "source": [
        "-----\n",
        "\n",
        "## Setting up Vocabulary of All Words"
      ]
    },
    {
      "cell_type": "code",
      "metadata": {
        "collapsed": true,
        "id": "Mn8CfCzJq7v6"
      },
      "source": [
        "# Create a set that holds the vocab words\n",
        "vocab = set()"
      ],
      "execution_count": null,
      "outputs": []
    },
    {
      "cell_type": "code",
      "metadata": {
        "collapsed": true,
        "id": "XrzCNbg7q7v6"
      },
      "source": [
        "all_data = test_data + train_data"
      ],
      "execution_count": null,
      "outputs": []
    },
    {
      "cell_type": "code",
      "metadata": {
        "collapsed": true,
        "id": "r-ihHArVq7v7"
      },
      "source": [
        "for story, question , answer in all_data:\n",
        "    # In case you don't know what a union of sets is:\n",
        "    \n",
        "    vocab = vocab.union(set(story))\n",
        "    vocab = vocab.union(set(question))"
      ],
      "execution_count": null,
      "outputs": []
    },
    {
      "cell_type": "code",
      "metadata": {
        "collapsed": true,
        "id": "YS7xPslzq7v7"
      },
      "source": [
        "vocab.add('no')\n",
        "vocab.add('yes')"
      ],
      "execution_count": null,
      "outputs": []
    },
    {
      "cell_type": "code",
      "metadata": {
        "id": "hk_hXJcfq7v8",
        "colab": {
          "base_uri": "https://localhost:8080/"
        },
        "outputId": "5d64aeb6-d063-4a49-e6d7-41a3758293d1"
      },
      "source": [
        "vocab"
      ],
      "execution_count": null,
      "outputs": [
        {
          "output_type": "execute_result",
          "data": {
            "text/plain": [
              "{'.',\n",
              " '?',\n",
              " 'Daniel',\n",
              " 'Is',\n",
              " 'John',\n",
              " 'Mary',\n",
              " 'Sandra',\n",
              " 'apple',\n",
              " 'back',\n",
              " 'bathroom',\n",
              " 'bedroom',\n",
              " 'discarded',\n",
              " 'down',\n",
              " 'dropped',\n",
              " 'football',\n",
              " 'garden',\n",
              " 'got',\n",
              " 'grabbed',\n",
              " 'hallway',\n",
              " 'in',\n",
              " 'journeyed',\n",
              " 'kitchen',\n",
              " 'left',\n",
              " 'milk',\n",
              " 'moved',\n",
              " 'no',\n",
              " 'office',\n",
              " 'picked',\n",
              " 'put',\n",
              " 'the',\n",
              " 'there',\n",
              " 'to',\n",
              " 'took',\n",
              " 'travelled',\n",
              " 'up',\n",
              " 'went',\n",
              " 'yes'}"
            ]
          },
          "metadata": {
            "tags": []
          },
          "execution_count": 19
        }
      ]
    },
    {
      "cell_type": "code",
      "metadata": {
        "collapsed": true,
        "id": "FIWi9trKq7v8"
      },
      "source": [
        "vocab_len = len(vocab) + 1 #we add an extra space to hold a 0 for Keras's pad_sequences"
      ],
      "execution_count": null,
      "outputs": []
    },
    {
      "cell_type": "code",
      "metadata": {
        "collapsed": true,
        "id": "ol8dnkEMq7v8"
      },
      "source": [
        "max_story_len = max([len(data[0]) for data in all_data])"
      ],
      "execution_count": null,
      "outputs": []
    },
    {
      "cell_type": "code",
      "metadata": {
        "id": "PPpHNbJlq7v9",
        "colab": {
          "base_uri": "https://localhost:8080/"
        },
        "outputId": "4639c7fb-6637-484b-80e6-4df5fe84a64d"
      },
      "source": [
        "max_story_len"
      ],
      "execution_count": null,
      "outputs": [
        {
          "output_type": "execute_result",
          "data": {
            "text/plain": [
              "156"
            ]
          },
          "metadata": {
            "tags": []
          },
          "execution_count": 22
        }
      ]
    },
    {
      "cell_type": "code",
      "metadata": {
        "collapsed": true,
        "id": "a6szvurbq7v9"
      },
      "source": [
        "max_question_len = max([len(data[1]) for data in all_data])"
      ],
      "execution_count": null,
      "outputs": []
    },
    {
      "cell_type": "code",
      "metadata": {
        "id": "PvKTITFVq7v9",
        "colab": {
          "base_uri": "https://localhost:8080/"
        },
        "outputId": "10bbfc25-ad4e-4fb1-e0e1-6fb700691af6"
      },
      "source": [
        "max_question_len"
      ],
      "execution_count": null,
      "outputs": [
        {
          "output_type": "execute_result",
          "data": {
            "text/plain": [
              "6"
            ]
          },
          "metadata": {
            "tags": []
          },
          "execution_count": 24
        }
      ]
    },
    {
      "cell_type": "markdown",
      "metadata": {
        "id": "Njk7lbO0q7v-"
      },
      "source": [
        "## Vectorizing the Data"
      ]
    },
    {
      "cell_type": "code",
      "metadata": {
        "id": "od20ssN9q7v-",
        "colab": {
          "base_uri": "https://localhost:8080/"
        },
        "outputId": "a13a6552-77cf-4ece-e806-6855152bb03c"
      },
      "source": [
        "vocab"
      ],
      "execution_count": null,
      "outputs": [
        {
          "output_type": "execute_result",
          "data": {
            "text/plain": [
              "{'.',\n",
              " '?',\n",
              " 'Daniel',\n",
              " 'Is',\n",
              " 'John',\n",
              " 'Mary',\n",
              " 'Sandra',\n",
              " 'apple',\n",
              " 'back',\n",
              " 'bathroom',\n",
              " 'bedroom',\n",
              " 'discarded',\n",
              " 'down',\n",
              " 'dropped',\n",
              " 'football',\n",
              " 'garden',\n",
              " 'got',\n",
              " 'grabbed',\n",
              " 'hallway',\n",
              " 'in',\n",
              " 'journeyed',\n",
              " 'kitchen',\n",
              " 'left',\n",
              " 'milk',\n",
              " 'moved',\n",
              " 'no',\n",
              " 'office',\n",
              " 'picked',\n",
              " 'put',\n",
              " 'the',\n",
              " 'there',\n",
              " 'to',\n",
              " 'took',\n",
              " 'travelled',\n",
              " 'up',\n",
              " 'went',\n",
              " 'yes'}"
            ]
          },
          "metadata": {
            "tags": []
          },
          "execution_count": 25
        }
      ]
    },
    {
      "cell_type": "code",
      "metadata": {
        "collapsed": true,
        "id": "9pGo1zFUq7v_"
      },
      "source": [
        "# Reserve 0 for pad_sequences\n",
        "vocab_size = len(vocab) + 1"
      ],
      "execution_count": null,
      "outputs": []
    },
    {
      "cell_type": "markdown",
      "metadata": {
        "id": "5cO6Fsnyq7v_"
      },
      "source": [
        "-----------"
      ]
    },
    {
      "cell_type": "code",
      "metadata": {
        "id": "9K5fTQCGq7v_"
      },
      "source": [
        "from keras.preprocessing.sequence import pad_sequences\n",
        "from keras.preprocessing.text import Tokenizer"
      ],
      "execution_count": null,
      "outputs": []
    },
    {
      "cell_type": "code",
      "metadata": {
        "collapsed": true,
        "id": "QvpUhw96q7wA"
      },
      "source": [
        "# integer encode sequences of words\n",
        "tokenizer = Tokenizer(filters=[])\n",
        "tokenizer.fit_on_texts(vocab)"
      ],
      "execution_count": null,
      "outputs": []
    },
    {
      "cell_type": "code",
      "metadata": {
        "id": "mMljMmIWq7wA",
        "colab": {
          "base_uri": "https://localhost:8080/"
        },
        "outputId": "836ba1dc-80ad-4ad8-d4d3-f01e28ff3b3e"
      },
      "source": [
        "tokenizer.word_index"
      ],
      "execution_count": null,
      "outputs": [
        {
          "output_type": "execute_result",
          "data": {
            "text/plain": [
              "{'.': 14,\n",
              " '?': 3,\n",
              " 'apple': 1,\n",
              " 'back': 32,\n",
              " 'bathroom': 23,\n",
              " 'bedroom': 2,\n",
              " 'daniel': 31,\n",
              " 'discarded': 22,\n",
              " 'down': 28,\n",
              " 'dropped': 24,\n",
              " 'football': 18,\n",
              " 'garden': 19,\n",
              " 'got': 26,\n",
              " 'grabbed': 33,\n",
              " 'hallway': 5,\n",
              " 'in': 6,\n",
              " 'is': 21,\n",
              " 'john': 15,\n",
              " 'journeyed': 11,\n",
              " 'kitchen': 8,\n",
              " 'left': 9,\n",
              " 'mary': 30,\n",
              " 'milk': 12,\n",
              " 'moved': 4,\n",
              " 'no': 17,\n",
              " 'office': 25,\n",
              " 'picked': 34,\n",
              " 'put': 37,\n",
              " 'sandra': 36,\n",
              " 'the': 7,\n",
              " 'there': 10,\n",
              " 'to': 20,\n",
              " 'took': 16,\n",
              " 'travelled': 35,\n",
              " 'up': 29,\n",
              " 'went': 27,\n",
              " 'yes': 13}"
            ]
          },
          "metadata": {
            "tags": []
          },
          "execution_count": 29
        }
      ]
    },
    {
      "cell_type": "code",
      "metadata": {
        "collapsed": true,
        "id": "LZTMwnP3q7wA"
      },
      "source": [
        "train_story_text = []\n",
        "train_question_text = []\n",
        "train_answers = []\n",
        "\n",
        "for story,question,answer in train_data:\n",
        "    train_story_text.append(story)\n",
        "    train_question_text.append(question)"
      ],
      "execution_count": null,
      "outputs": []
    },
    {
      "cell_type": "code",
      "metadata": {
        "collapsed": true,
        "id": "lG6qF5Eeq7wB"
      },
      "source": [
        "train_story_seq = tokenizer.texts_to_sequences(train_story_text)"
      ],
      "execution_count": null,
      "outputs": []
    },
    {
      "cell_type": "code",
      "metadata": {
        "id": "C4AWIzXVq7wB",
        "colab": {
          "base_uri": "https://localhost:8080/"
        },
        "outputId": "c50bef00-6652-4185-c4e6-73c0dbcf3098"
      },
      "source": [
        "len(train_story_text)"
      ],
      "execution_count": null,
      "outputs": [
        {
          "output_type": "execute_result",
          "data": {
            "text/plain": [
              "10000"
            ]
          },
          "metadata": {
            "tags": []
          },
          "execution_count": 32
        }
      ]
    },
    {
      "cell_type": "code",
      "metadata": {
        "id": "-2-y4yR5q7wC",
        "colab": {
          "base_uri": "https://localhost:8080/"
        },
        "outputId": "6bbff38b-d3f8-42e8-e65a-a535d06de640"
      },
      "source": [
        "len(train_story_seq)"
      ],
      "execution_count": null,
      "outputs": [
        {
          "output_type": "execute_result",
          "data": {
            "text/plain": [
              "10000"
            ]
          },
          "metadata": {
            "tags": []
          },
          "execution_count": 33
        }
      ]
    },
    {
      "cell_type": "code",
      "metadata": {
        "collapsed": true,
        "id": "uzVoGx6Xq7wC"
      },
      "source": [
        "# word_index = tokenizer.word_index"
      ],
      "execution_count": null,
      "outputs": []
    },
    {
      "cell_type": "markdown",
      "metadata": {
        "id": "CDijhdTnq7wC"
      },
      "source": [
        "### Functionalize Vectorization"
      ]
    },
    {
      "cell_type": "code",
      "metadata": {
        "collapsed": true,
        "id": "6-Zz1Gjsq7wD"
      },
      "source": [
        "def vectorize_stories(data, word_index=tokenizer.word_index, max_story_len=max_story_len,max_question_len=max_question_len):\n",
        "    '''\n",
        "    INPUT: \n",
        "    \n",
        "    data: consisting of Stories,Queries,and Answers\n",
        "    word_index: word index dictionary from tokenizer\n",
        "    max_story_len: the length of the longest story (used for pad_sequences function)\n",
        "    max_question_len: length of the longest question (used for pad_sequences function)\n",
        "    OUTPUT:\n",
        "    Vectorizes the stories,questions, and answers into padded sequences. We first loop for every story, query , and\n",
        "    answer in the data. Then we convert the raw words to an word index value. Then we append each set to their appropriate\n",
        "    output list. Then once we have converted the words to numbers, we pad the sequences so they are all of equal length.\n",
        "    Returns this in the form of a tuple (X,Xq,Y) (padded based on max lengths)\n",
        "    ''' \n",
        "    # X = STORIES\n",
        "    X = []\n",
        "    # Xq = QUERY/QUESTION\n",
        "    Xq = []\n",
        "    # Y = CORRECT ANSWER\n",
        "    Y = []    \n",
        "    for story, query, answer in data:\n",
        "        \n",
        "        # Grab the word index for every word in story\n",
        "        x = [word_index[word.lower()] for word in story]\n",
        "        # Grab the word index for every word in query\n",
        "        xq = [word_index[word.lower()] for word in query]\n",
        "        \n",
        "        # Grab the Answers (either Yes/No so we don't need to use list comprehension here)\n",
        "        # Index 0 is reserved so we're going to use + 1\n",
        "        y = np.zeros(len(word_index) + 1)\n",
        "        \n",
        "        # Now that y is all zeros and we know its just Yes/No , we can use numpy logic to create this assignment\n",
        "        #\n",
        "        y[word_index[answer]] = 1\n",
        "        \n",
        "        # Append each set of story,query, and answer to their respective holding lists\n",
        "        X.append(x)\n",
        "        Xq.append(xq)\n",
        "        Y.append(y)\n",
        "        \n",
        "    # Finally, pad the sequences based on their max length so the RNN can be trained on uniformly long sequences.\n",
        "        \n",
        "    # RETURN TUPLE FOR UNPACKING\n",
        "    return (pad_sequences(X, maxlen=max_story_len),pad_sequences(Xq, maxlen=max_question_len), np.array(Y))"
      ],
      "execution_count": null,
      "outputs": []
    },
    {
      "cell_type": "code",
      "metadata": {
        "collapsed": true,
        "id": "648JUFRZq7wD"
      },
      "source": [
        "inputs_train, queries_train, answers_train = vectorize_stories(train_data)"
      ],
      "execution_count": null,
      "outputs": []
    },
    {
      "cell_type": "code",
      "metadata": {
        "collapsed": true,
        "id": "ru-5oLf4q7wE"
      },
      "source": [
        "inputs_test, queries_test, answers_test = vectorize_stories(test_data)"
      ],
      "execution_count": null,
      "outputs": []
    },
    {
      "cell_type": "code",
      "metadata": {
        "id": "-u_E7TB-q7wE",
        "colab": {
          "base_uri": "https://localhost:8080/"
        },
        "outputId": "2c3ae485-c97d-4f17-b0c1-a5aeb2b57202"
      },
      "source": [
        "inputs_test"
      ],
      "execution_count": null,
      "outputs": [
        {
          "output_type": "execute_result",
          "data": {
            "text/plain": [
              "array([[ 0,  0,  0, ...,  7,  2, 14],\n",
              "       [ 0,  0,  0, ...,  7, 19, 14],\n",
              "       [ 0,  0,  0, ...,  7, 19, 14],\n",
              "       ...,\n",
              "       [ 0,  0,  0, ...,  7,  1, 14],\n",
              "       [ 0,  0,  0, ...,  7, 19, 14],\n",
              "       [ 0,  0,  0, ...,  1, 10, 14]], dtype=int32)"
            ]
          },
          "metadata": {
            "tags": []
          },
          "execution_count": 38
        }
      ]
    },
    {
      "cell_type": "code",
      "metadata": {
        "id": "Jj8un647q7wE",
        "colab": {
          "base_uri": "https://localhost:8080/"
        },
        "outputId": "cad94bf7-ac4a-462e-c311-c39f890cfa62"
      },
      "source": [
        "queries_test"
      ],
      "execution_count": null,
      "outputs": [
        {
          "output_type": "execute_result",
          "data": {
            "text/plain": [
              "array([[21, 15,  6,  7,  8,  3],\n",
              "       [21, 15,  6,  7,  8,  3],\n",
              "       [21, 15,  6,  7, 19,  3],\n",
              "       ...,\n",
              "       [21, 30,  6,  7,  2,  3],\n",
              "       [21, 36,  6,  7, 19,  3],\n",
              "       [21, 30,  6,  7, 19,  3]], dtype=int32)"
            ]
          },
          "metadata": {
            "tags": []
          },
          "execution_count": 39
        }
      ]
    },
    {
      "cell_type": "code",
      "metadata": {
        "id": "mKnbDUygq7wF",
        "colab": {
          "base_uri": "https://localhost:8080/"
        },
        "outputId": "cc02d7a3-75d2-4116-a8f4-d715fdf844cf"
      },
      "source": [
        "answers_test"
      ],
      "execution_count": null,
      "outputs": [
        {
          "output_type": "execute_result",
          "data": {
            "text/plain": [
              "array([[0., 0., 0., ..., 0., 0., 0.],\n",
              "       [0., 0., 0., ..., 0., 0., 0.],\n",
              "       [0., 0., 0., ..., 0., 0., 0.],\n",
              "       ...,\n",
              "       [0., 0., 0., ..., 0., 0., 0.],\n",
              "       [0., 0., 0., ..., 0., 0., 0.],\n",
              "       [0., 0., 0., ..., 0., 0., 0.]])"
            ]
          },
          "metadata": {
            "tags": []
          },
          "execution_count": 40
        }
      ]
    },
    {
      "cell_type": "code",
      "metadata": {
        "id": "NPw0oqslq7wG",
        "colab": {
          "base_uri": "https://localhost:8080/"
        },
        "outputId": "2c7c349f-888f-452e-c82f-83d03d80193e"
      },
      "source": [
        "sum(answers_test)"
      ],
      "execution_count": null,
      "outputs": [
        {
          "output_type": "execute_result",
          "data": {
            "text/plain": [
              "array([  0.,   0.,   0.,   0.,   0.,   0.,   0.,   0.,   0.,   0.,   0.,\n",
              "         0.,   0., 497.,   0.,   0.,   0., 503.,   0.,   0.,   0.,   0.,\n",
              "         0.,   0.,   0.,   0.,   0.,   0.,   0.,   0.,   0.,   0.,   0.,\n",
              "         0.,   0.,   0.,   0.,   0.])"
            ]
          },
          "metadata": {
            "tags": []
          },
          "execution_count": 41
        }
      ]
    },
    {
      "cell_type": "code",
      "metadata": {
        "id": "hCQ2N1g-q7wH",
        "colab": {
          "base_uri": "https://localhost:8080/"
        },
        "outputId": "8dfbb24d-73d0-4a7f-8304-7a3194c9a328"
      },
      "source": [
        "tokenizer.word_index['yes']"
      ],
      "execution_count": null,
      "outputs": [
        {
          "output_type": "execute_result",
          "data": {
            "text/plain": [
              "13"
            ]
          },
          "metadata": {
            "tags": []
          },
          "execution_count": 42
        }
      ]
    },
    {
      "cell_type": "code",
      "metadata": {
        "id": "eRIJxuRtq7wI",
        "colab": {
          "base_uri": "https://localhost:8080/"
        },
        "outputId": "2296291e-46bd-4cef-cbdb-c8d1df4b2b2c"
      },
      "source": [
        "tokenizer.word_index['no']"
      ],
      "execution_count": null,
      "outputs": [
        {
          "output_type": "execute_result",
          "data": {
            "text/plain": [
              "17"
            ]
          },
          "metadata": {
            "tags": []
          },
          "execution_count": 43
        }
      ]
    },
    {
      "cell_type": "markdown",
      "metadata": {
        "id": "2qI4u_lXq7wI"
      },
      "source": [
        "## Creating the Model"
      ]
    },
    {
      "cell_type": "code",
      "metadata": {
        "collapsed": true,
        "id": "8SDgjtqMq7wI"
      },
      "source": [
        "from keras.models import Sequential, Model\n",
        "from keras.layers.embeddings import Embedding\n",
        "from keras.layers import Input, Activation, Dense, Permute, Dropout\n",
        "from keras.layers import add, dot, concatenate\n",
        "from keras.layers import LSTM"
      ],
      "execution_count": null,
      "outputs": []
    },
    {
      "cell_type": "markdown",
      "metadata": {
        "id": "nBNfVwopq7wJ"
      },
      "source": [
        "#Placeholders for Inputs\n",
        "\n",
        "Recall we technically have two inputs, stories and questions. So we need to use placeholders. `Input()` is used to instantiate a Keras tensor.\n"
      ]
    },
    {
      "cell_type": "code",
      "metadata": {
        "collapsed": true,
        "id": "kxE_pWWDq7wJ"
      },
      "source": [
        "input_sequence = Input((max_story_len,))\n",
        "question = Input((max_question_len,))"
      ],
      "execution_count": null,
      "outputs": []
    },
    {
      "cell_type": "markdown",
      "metadata": {
        "collapsed": true,
        "id": "P2L7mdn5q7wJ"
      },
      "source": [
        "#**Building the Networks**\n",
        "\n",
        "To understand why we chose this setup, make sure to read the paper we are using:\n",
        "\n"
      ]
    },
    {
      "cell_type": "markdown",
      "metadata": {
        "id": "VSdQN2-Nq7wK"
      },
      "source": [
        "## Encoders\n",
        "\n",
        "### Input Encoder m"
      ]
    },
    {
      "cell_type": "code",
      "metadata": {
        "collapsed": true,
        "id": "Co9jSCtfq7wK"
      },
      "source": [
        "# Input gets embedded to a sequence of vectors\n",
        "input_encoder_m = Sequential()\n",
        "input_encoder_m.add(Embedding(input_dim=vocab_size,output_dim=64))\n",
        "input_encoder_m.add(Dropout(0.3))\n",
        "\n",
        "# This encoder will output:\n",
        "# (samples, story_maxlen, embedding_dim)"
      ],
      "execution_count": null,
      "outputs": []
    },
    {
      "cell_type": "markdown",
      "metadata": {
        "id": "mNI_YEO_q7wK"
      },
      "source": [
        "### Input Encoder c"
      ]
    },
    {
      "cell_type": "code",
      "metadata": {
        "collapsed": true,
        "id": "u3MiEaahq7wL"
      },
      "source": [
        "# embed the input into a sequence of vectors of size query_maxlen\n",
        "input_encoder_c = Sequential()\n",
        "input_encoder_c.add(Embedding(input_dim=vocab_size,output_dim=max_question_len))\n",
        "input_encoder_c.add(Dropout(0.3))\n",
        "# output: (samples, story_maxlen, query_maxlen)"
      ],
      "execution_count": null,
      "outputs": []
    },
    {
      "cell_type": "markdown",
      "metadata": {
        "id": "7Z93KgBmq7wM"
      },
      "source": [
        "### Question Encoder"
      ]
    },
    {
      "cell_type": "code",
      "metadata": {
        "collapsed": true,
        "id": "o0lyrjTAq7wM"
      },
      "source": [
        "# embed the question into a sequence of vectors\n",
        "question_encoder = Sequential()\n",
        "question_encoder.add(Embedding(input_dim=vocab_size,\n",
        "                               output_dim=64,\n",
        "                               input_length=max_question_len))\n",
        "question_encoder.add(Dropout(0.3))\n",
        "# output: (samples, query_maxlen, embedding_dim)"
      ],
      "execution_count": null,
      "outputs": []
    },
    {
      "cell_type": "markdown",
      "metadata": {
        "id": "3wX9MWvXq7wM"
      },
      "source": [
        "### Encode the Sequences"
      ]
    },
    {
      "cell_type": "code",
      "metadata": {
        "collapsed": true,
        "id": "eUeFxeJiq7wN"
      },
      "source": [
        "# encode input sequence and questions (which are indices)\n",
        "# to sequences of dense vectors\n",
        "input_encoded_m = input_encoder_m(input_sequence)\n",
        "input_encoded_c = input_encoder_c(input_sequence)\n",
        "question_encoded = question_encoder(question)"
      ],
      "execution_count": null,
      "outputs": []
    },
    {
      "cell_type": "markdown",
      "metadata": {
        "id": "-axDo2Rhq7wN"
      },
      "source": [
        "##### Use dot product to compute the match between first input vector seq and the query"
      ]
    },
    {
      "cell_type": "code",
      "metadata": {
        "collapsed": true,
        "id": "QC5vgmzzq7wN"
      },
      "source": [
        "# shape: `(samples, story_maxlen, query_maxlen)`\n",
        "match = dot([input_encoded_m, question_encoded], axes=(2, 2))\n",
        "match = Activation('softmax')(match)"
      ],
      "execution_count": null,
      "outputs": []
    },
    {
      "cell_type": "markdown",
      "metadata": {
        "id": "BOiB1Dqkq7wO"
      },
      "source": [
        "#### Add this match matrix with the second input vector sequence"
      ]
    },
    {
      "cell_type": "code",
      "metadata": {
        "collapsed": true,
        "id": "mVnPcIPUq7wO"
      },
      "source": [
        "# add the match matrix with the second input vector sequence\n",
        "response = add([match, input_encoded_c])  # (samples, story_maxlen, query_maxlen)\n",
        "response = Permute((2, 1))(response)  # (samples, query_maxlen, story_maxlen)"
      ],
      "execution_count": null,
      "outputs": []
    },
    {
      "cell_type": "markdown",
      "metadata": {
        "id": "4Fl4slCOq7wO"
      },
      "source": [
        "#### Concatenate"
      ]
    },
    {
      "cell_type": "code",
      "metadata": {
        "collapsed": true,
        "id": "TrdH_Acbq7wQ"
      },
      "source": [
        "# concatenate the match matrix with the question vector sequence\n",
        "answer = concatenate([response, question_encoded])"
      ],
      "execution_count": null,
      "outputs": []
    },
    {
      "cell_type": "code",
      "metadata": {
        "id": "b19U6teEq7wR",
        "colab": {
          "base_uri": "https://localhost:8080/"
        },
        "outputId": "320eac6e-81fa-4387-90d2-ffa48901e494"
      },
      "source": [
        "answer"
      ],
      "execution_count": null,
      "outputs": [
        {
          "output_type": "execute_result",
          "data": {
            "text/plain": [
              "<KerasTensor: shape=(None, 6, 220) dtype=float32 (created by layer 'concatenate')>"
            ]
          },
          "metadata": {
            "tags": []
          },
          "execution_count": 53
        }
      ]
    },
    {
      "cell_type": "code",
      "metadata": {
        "collapsed": true,
        "id": "4R-WNIsgq7wR"
      },
      "source": [
        "# Reduce with RNN (LSTM)\n",
        "answer = LSTM(32)(answer)  # (samples, 32)"
      ],
      "execution_count": null,
      "outputs": []
    },
    {
      "cell_type": "code",
      "metadata": {
        "collapsed": true,
        "id": "fnBgejfCq7wS"
      },
      "source": [
        "# Regularization with Dropout\n",
        "answer = Dropout(0.5)(answer)\n",
        "answer = Dense(vocab_size)(answer)  # (samples, vocab_size)"
      ],
      "execution_count": null,
      "outputs": []
    },
    {
      "cell_type": "code",
      "metadata": {
        "collapsed": true,
        "id": "MxHEaZU5q7wS"
      },
      "source": [
        "# we output a probability distribution over the vocabulary\n",
        "answer = Activation('softmax')(answer)\n",
        "\n",
        "# build the final model\n",
        "model = Model([input_sequence, question], answer)\n",
        "model.compile(optimizer='rmsprop', loss='categorical_crossentropy',\n",
        "              metrics=['accuracy'])"
      ],
      "execution_count": null,
      "outputs": []
    },
    {
      "cell_type": "code",
      "metadata": {
        "id": "g_DXm0mRq7wS",
        "colab": {
          "base_uri": "https://localhost:8080/"
        },
        "outputId": "916bd1da-8e4f-47e9-e200-b18a75a019c1"
      },
      "source": [
        "model.summary()"
      ],
      "execution_count": null,
      "outputs": [
        {
          "output_type": "stream",
          "text": [
            "Model: \"model\"\n",
            "__________________________________________________________________________________________________\n",
            "Layer (type)                    Output Shape         Param #     Connected to                     \n",
            "==================================================================================================\n",
            "input_1 (InputLayer)            [(None, 156)]        0                                            \n",
            "__________________________________________________________________________________________________\n",
            "input_2 (InputLayer)            [(None, 6)]          0                                            \n",
            "__________________________________________________________________________________________________\n",
            "sequential (Sequential)         (None, None, 64)     2432        input_1[0][0]                    \n",
            "__________________________________________________________________________________________________\n",
            "sequential_2 (Sequential)       (None, 6, 64)        2432        input_2[0][0]                    \n",
            "__________________________________________________________________________________________________\n",
            "dot (Dot)                       (None, 156, 6)       0           sequential[0][0]                 \n",
            "                                                                 sequential_2[0][0]               \n",
            "__________________________________________________________________________________________________\n",
            "activation (Activation)         (None, 156, 6)       0           dot[0][0]                        \n",
            "__________________________________________________________________________________________________\n",
            "sequential_1 (Sequential)       (None, None, 6)      228         input_1[0][0]                    \n",
            "__________________________________________________________________________________________________\n",
            "add (Add)                       (None, 156, 6)       0           activation[0][0]                 \n",
            "                                                                 sequential_1[0][0]               \n",
            "__________________________________________________________________________________________________\n",
            "permute (Permute)               (None, 6, 156)       0           add[0][0]                        \n",
            "__________________________________________________________________________________________________\n",
            "concatenate (Concatenate)       (None, 6, 220)       0           permute[0][0]                    \n",
            "                                                                 sequential_2[0][0]               \n",
            "__________________________________________________________________________________________________\n",
            "lstm (LSTM)                     (None, 32)           32384       concatenate[0][0]                \n",
            "__________________________________________________________________________________________________\n",
            "dropout_3 (Dropout)             (None, 32)           0           lstm[0][0]                       \n",
            "__________________________________________________________________________________________________\n",
            "dense (Dense)                   (None, 38)           1254        dropout_3[0][0]                  \n",
            "__________________________________________________________________________________________________\n",
            "activation_1 (Activation)       (None, 38)           0           dense[0][0]                      \n",
            "==================================================================================================\n",
            "Total params: 38,730\n",
            "Trainable params: 38,730\n",
            "Non-trainable params: 0\n",
            "__________________________________________________________________________________________________\n"
          ],
          "name": "stdout"
        }
      ]
    },
    {
      "cell_type": "markdown",
      "metadata": {
        "id": "hl1h7qLRohNe"
      },
      "source": [
        "#**Train The Model**"
      ]
    },
    {
      "cell_type": "code",
      "metadata": {
        "id": "B81rZai7q7wT",
        "colab": {
          "base_uri": "https://localhost:8080/"
        },
        "outputId": "2fd9d621-2ad1-48e9-8e74-2945e1e2ec4c"
      },
      "source": [
        "# train the m\n",
        "history = model.fit([inputs_train, queries_train], answers_train,batch_size=32,epochs=120,validation_data=([inputs_test, queries_test], answers_test))"
      ],
      "execution_count": null,
      "outputs": [
        {
          "output_type": "stream",
          "text": [
            "Epoch 1/120\n",
            "313/313 [==============================] - 5s 15ms/step - loss: 0.2873 - accuracy: 0.8793 - val_loss: 0.4517 - val_accuracy: 0.8200\n",
            "Epoch 2/120\n",
            "313/313 [==============================] - 5s 15ms/step - loss: 0.2778 - accuracy: 0.8846 - val_loss: 0.4613 - val_accuracy: 0.8160\n",
            "Epoch 3/120\n",
            "313/313 [==============================] - 5s 15ms/step - loss: 0.2888 - accuracy: 0.8817 - val_loss: 0.5163 - val_accuracy: 0.8080\n",
            "Epoch 4/120\n",
            "313/313 [==============================] - 5s 15ms/step - loss: 0.2802 - accuracy: 0.8837 - val_loss: 0.4514 - val_accuracy: 0.8130\n",
            "Epoch 5/120\n",
            "313/313 [==============================] - 5s 15ms/step - loss: 0.2825 - accuracy: 0.8832 - val_loss: 0.4661 - val_accuracy: 0.8180\n",
            "Epoch 6/120\n",
            "313/313 [==============================] - 5s 15ms/step - loss: 0.2794 - accuracy: 0.8828 - val_loss: 0.4876 - val_accuracy: 0.8150\n",
            "Epoch 7/120\n",
            "313/313 [==============================] - 5s 15ms/step - loss: 0.2758 - accuracy: 0.8866 - val_loss: 0.4571 - val_accuracy: 0.8220\n",
            "Epoch 8/120\n",
            "313/313 [==============================] - 5s 15ms/step - loss: 0.2780 - accuracy: 0.8843 - val_loss: 0.4593 - val_accuracy: 0.8180\n",
            "Epoch 9/120\n",
            "313/313 [==============================] - 5s 15ms/step - loss: 0.2763 - accuracy: 0.8825 - val_loss: 0.4901 - val_accuracy: 0.8110\n",
            "Epoch 10/120\n",
            "313/313 [==============================] - 5s 15ms/step - loss: 0.2791 - accuracy: 0.8825 - val_loss: 0.4817 - val_accuracy: 0.8170\n",
            "Epoch 11/120\n",
            "313/313 [==============================] - 5s 15ms/step - loss: 0.2782 - accuracy: 0.8839 - val_loss: 0.4694 - val_accuracy: 0.8250\n",
            "Epoch 12/120\n",
            "313/313 [==============================] - 5s 15ms/step - loss: 0.2738 - accuracy: 0.8884 - val_loss: 0.4461 - val_accuracy: 0.8160\n",
            "Epoch 13/120\n",
            "313/313 [==============================] - 5s 15ms/step - loss: 0.2711 - accuracy: 0.8866 - val_loss: 0.4766 - val_accuracy: 0.8220\n",
            "Epoch 14/120\n",
            "313/313 [==============================] - 5s 15ms/step - loss: 0.2680 - accuracy: 0.8927 - val_loss: 0.4691 - val_accuracy: 0.8190\n",
            "Epoch 15/120\n",
            "313/313 [==============================] - 5s 15ms/step - loss: 0.2715 - accuracy: 0.8880 - val_loss: 0.4830 - val_accuracy: 0.8220\n",
            "Epoch 16/120\n",
            "313/313 [==============================] - 5s 15ms/step - loss: 0.2742 - accuracy: 0.8880 - val_loss: 0.5159 - val_accuracy: 0.8170\n",
            "Epoch 17/120\n",
            "313/313 [==============================] - 5s 15ms/step - loss: 0.2662 - accuracy: 0.8918 - val_loss: 0.4695 - val_accuracy: 0.8230\n",
            "Epoch 18/120\n",
            "313/313 [==============================] - 5s 15ms/step - loss: 0.2680 - accuracy: 0.8917 - val_loss: 0.5066 - val_accuracy: 0.8070\n",
            "Epoch 19/120\n",
            "313/313 [==============================] - 5s 15ms/step - loss: 0.2681 - accuracy: 0.8918 - val_loss: 0.4954 - val_accuracy: 0.8170\n",
            "Epoch 20/120\n",
            "313/313 [==============================] - 5s 15ms/step - loss: 0.2647 - accuracy: 0.8905 - val_loss: 0.4977 - val_accuracy: 0.8160\n",
            "Epoch 21/120\n",
            "313/313 [==============================] - 5s 15ms/step - loss: 0.2723 - accuracy: 0.8895 - val_loss: 0.4873 - val_accuracy: 0.8220\n",
            "Epoch 22/120\n",
            "313/313 [==============================] - 5s 15ms/step - loss: 0.2699 - accuracy: 0.8900 - val_loss: 0.4599 - val_accuracy: 0.8250\n",
            "Epoch 23/120\n",
            "313/313 [==============================] - 5s 15ms/step - loss: 0.2591 - accuracy: 0.8977 - val_loss: 0.4948 - val_accuracy: 0.8200\n",
            "Epoch 24/120\n",
            "313/313 [==============================] - 5s 15ms/step - loss: 0.2608 - accuracy: 0.8945 - val_loss: 0.5001 - val_accuracy: 0.8240\n",
            "Epoch 25/120\n",
            "313/313 [==============================] - 5s 15ms/step - loss: 0.2530 - accuracy: 0.8975 - val_loss: 0.5396 - val_accuracy: 0.8140\n",
            "Epoch 26/120\n",
            "313/313 [==============================] - 5s 15ms/step - loss: 0.2517 - accuracy: 0.8960 - val_loss: 0.5100 - val_accuracy: 0.8230\n",
            "Epoch 27/120\n",
            "313/313 [==============================] - 5s 15ms/step - loss: 0.2591 - accuracy: 0.8970 - val_loss: 0.5087 - val_accuracy: 0.8190\n",
            "Epoch 28/120\n",
            "313/313 [==============================] - 5s 15ms/step - loss: 0.2574 - accuracy: 0.8918 - val_loss: 0.5244 - val_accuracy: 0.8180\n",
            "Epoch 29/120\n",
            "313/313 [==============================] - 5s 15ms/step - loss: 0.2556 - accuracy: 0.8950 - val_loss: 0.4950 - val_accuracy: 0.8170\n",
            "Epoch 30/120\n",
            "313/313 [==============================] - 5s 15ms/step - loss: 0.2441 - accuracy: 0.8986 - val_loss: 0.5104 - val_accuracy: 0.8180\n",
            "Epoch 31/120\n",
            "313/313 [==============================] - 5s 15ms/step - loss: 0.2535 - accuracy: 0.8994 - val_loss: 0.5041 - val_accuracy: 0.8290\n",
            "Epoch 32/120\n",
            "313/313 [==============================] - 5s 15ms/step - loss: 0.2488 - accuracy: 0.9004 - val_loss: 0.5030 - val_accuracy: 0.8220\n",
            "Epoch 33/120\n",
            "313/313 [==============================] - 5s 15ms/step - loss: 0.2535 - accuracy: 0.8978 - val_loss: 0.5100 - val_accuracy: 0.8250\n",
            "Epoch 34/120\n",
            "313/313 [==============================] - 5s 15ms/step - loss: 0.2464 - accuracy: 0.8976 - val_loss: 0.5068 - val_accuracy: 0.8250\n",
            "Epoch 35/120\n",
            "313/313 [==============================] - 5s 15ms/step - loss: 0.2561 - accuracy: 0.8971 - val_loss: 0.5224 - val_accuracy: 0.8240\n",
            "Epoch 36/120\n",
            "313/313 [==============================] - 5s 15ms/step - loss: 0.2564 - accuracy: 0.8989 - val_loss: 0.4998 - val_accuracy: 0.8180\n",
            "Epoch 37/120\n",
            "313/313 [==============================] - 5s 15ms/step - loss: 0.2482 - accuracy: 0.8991 - val_loss: 0.5004 - val_accuracy: 0.8270\n",
            "Epoch 38/120\n",
            "313/313 [==============================] - 5s 15ms/step - loss: 0.2461 - accuracy: 0.8995 - val_loss: 0.5125 - val_accuracy: 0.8210\n",
            "Epoch 39/120\n",
            "313/313 [==============================] - 5s 15ms/step - loss: 0.2482 - accuracy: 0.9009 - val_loss: 0.5233 - val_accuracy: 0.8230\n",
            "Epoch 40/120\n",
            "313/313 [==============================] - 5s 15ms/step - loss: 0.2509 - accuracy: 0.8990 - val_loss: 0.4813 - val_accuracy: 0.8260\n",
            "Epoch 41/120\n",
            "313/313 [==============================] - 5s 15ms/step - loss: 0.2459 - accuracy: 0.9015 - val_loss: 0.5279 - val_accuracy: 0.8200\n",
            "Epoch 42/120\n",
            "313/313 [==============================] - 5s 15ms/step - loss: 0.2487 - accuracy: 0.9002 - val_loss: 0.5200 - val_accuracy: 0.8110\n",
            "Epoch 43/120\n",
            "313/313 [==============================] - 5s 15ms/step - loss: 0.2470 - accuracy: 0.9021 - val_loss: 0.5251 - val_accuracy: 0.8240\n",
            "Epoch 44/120\n",
            "313/313 [==============================] - 5s 15ms/step - loss: 0.2488 - accuracy: 0.8967 - val_loss: 0.5083 - val_accuracy: 0.8270\n",
            "Epoch 45/120\n",
            "313/313 [==============================] - 5s 15ms/step - loss: 0.2421 - accuracy: 0.9027 - val_loss: 0.5314 - val_accuracy: 0.8180\n",
            "Epoch 46/120\n",
            "313/313 [==============================] - 5s 15ms/step - loss: 0.2469 - accuracy: 0.9042 - val_loss: 0.5225 - val_accuracy: 0.8160\n",
            "Epoch 47/120\n",
            "313/313 [==============================] - 5s 15ms/step - loss: 0.2340 - accuracy: 0.9068 - val_loss: 0.5279 - val_accuracy: 0.8150\n",
            "Epoch 48/120\n",
            "313/313 [==============================] - 5s 15ms/step - loss: 0.2383 - accuracy: 0.9031 - val_loss: 0.5586 - val_accuracy: 0.8210\n",
            "Epoch 49/120\n",
            "313/313 [==============================] - 5s 15ms/step - loss: 0.2399 - accuracy: 0.9041 - val_loss: 0.5066 - val_accuracy: 0.8270\n",
            "Epoch 50/120\n",
            "313/313 [==============================] - 5s 15ms/step - loss: 0.2425 - accuracy: 0.9035 - val_loss: 0.6234 - val_accuracy: 0.8130\n",
            "Epoch 51/120\n",
            "313/313 [==============================] - 5s 15ms/step - loss: 0.2363 - accuracy: 0.9055 - val_loss: 0.5192 - val_accuracy: 0.8190\n",
            "Epoch 52/120\n",
            "313/313 [==============================] - 5s 15ms/step - loss: 0.2298 - accuracy: 0.9107 - val_loss: 0.5068 - val_accuracy: 0.8270\n",
            "Epoch 53/120\n",
            "313/313 [==============================] - 5s 15ms/step - loss: 0.2377 - accuracy: 0.9033 - val_loss: 0.5277 - val_accuracy: 0.8190\n",
            "Epoch 54/120\n",
            "313/313 [==============================] - 5s 15ms/step - loss: 0.2366 - accuracy: 0.9045 - val_loss: 0.5828 - val_accuracy: 0.8230\n",
            "Epoch 55/120\n",
            "313/313 [==============================] - 5s 15ms/step - loss: 0.2258 - accuracy: 0.9088 - val_loss: 0.5330 - val_accuracy: 0.8230\n",
            "Epoch 56/120\n",
            "313/313 [==============================] - 5s 15ms/step - loss: 0.2298 - accuracy: 0.9054 - val_loss: 0.5569 - val_accuracy: 0.8250\n",
            "Epoch 57/120\n",
            "313/313 [==============================] - 5s 15ms/step - loss: 0.2274 - accuracy: 0.9070 - val_loss: 0.6236 - val_accuracy: 0.8100\n",
            "Epoch 58/120\n",
            "313/313 [==============================] - 5s 15ms/step - loss: 0.2297 - accuracy: 0.9064 - val_loss: 0.5479 - val_accuracy: 0.8190\n",
            "Epoch 59/120\n",
            "313/313 [==============================] - 5s 15ms/step - loss: 0.2286 - accuracy: 0.9102 - val_loss: 0.5956 - val_accuracy: 0.8100\n",
            "Epoch 60/120\n",
            "313/313 [==============================] - 5s 15ms/step - loss: 0.2223 - accuracy: 0.9111 - val_loss: 0.5881 - val_accuracy: 0.8120\n",
            "Epoch 61/120\n",
            "313/313 [==============================] - 5s 15ms/step - loss: 0.2284 - accuracy: 0.9105 - val_loss: 0.5944 - val_accuracy: 0.8150\n",
            "Epoch 62/120\n",
            "313/313 [==============================] - 5s 15ms/step - loss: 0.2310 - accuracy: 0.9093 - val_loss: 0.5541 - val_accuracy: 0.8200\n",
            "Epoch 63/120\n",
            "313/313 [==============================] - 5s 15ms/step - loss: 0.2221 - accuracy: 0.9100 - val_loss: 0.5723 - val_accuracy: 0.8130\n",
            "Epoch 64/120\n",
            "313/313 [==============================] - 5s 15ms/step - loss: 0.2333 - accuracy: 0.9082 - val_loss: 0.5417 - val_accuracy: 0.8110\n",
            "Epoch 65/120\n",
            "313/313 [==============================] - 5s 15ms/step - loss: 0.2290 - accuracy: 0.9070 - val_loss: 0.4914 - val_accuracy: 0.8270\n",
            "Epoch 66/120\n",
            "313/313 [==============================] - 5s 15ms/step - loss: 0.2275 - accuracy: 0.9113 - val_loss: 0.5406 - val_accuracy: 0.8220\n",
            "Epoch 67/120\n",
            "313/313 [==============================] - 5s 15ms/step - loss: 0.2218 - accuracy: 0.9116 - val_loss: 0.5648 - val_accuracy: 0.8140\n",
            "Epoch 68/120\n",
            "313/313 [==============================] - 5s 15ms/step - loss: 0.2214 - accuracy: 0.9103 - val_loss: 0.5854 - val_accuracy: 0.8190\n",
            "Epoch 69/120\n",
            "313/313 [==============================] - 5s 15ms/step - loss: 0.2277 - accuracy: 0.9100 - val_loss: 0.5411 - val_accuracy: 0.8270\n",
            "Epoch 70/120\n",
            "313/313 [==============================] - 5s 15ms/step - loss: 0.2302 - accuracy: 0.9091 - val_loss: 0.5407 - val_accuracy: 0.8340\n",
            "Epoch 71/120\n",
            "313/313 [==============================] - 5s 15ms/step - loss: 0.2230 - accuracy: 0.9095 - val_loss: 0.5751 - val_accuracy: 0.8150\n",
            "Epoch 72/120\n",
            "313/313 [==============================] - 5s 15ms/step - loss: 0.2305 - accuracy: 0.9126 - val_loss: 0.5441 - val_accuracy: 0.8220\n",
            "Epoch 73/120\n",
            "313/313 [==============================] - 5s 15ms/step - loss: 0.2192 - accuracy: 0.9142 - val_loss: 0.5834 - val_accuracy: 0.8160\n",
            "Epoch 74/120\n",
            "313/313 [==============================] - 5s 15ms/step - loss: 0.2188 - accuracy: 0.9140 - val_loss: 0.6012 - val_accuracy: 0.8230\n",
            "Epoch 75/120\n",
            "313/313 [==============================] - 5s 15ms/step - loss: 0.2232 - accuracy: 0.9128 - val_loss: 0.5796 - val_accuracy: 0.8210\n",
            "Epoch 76/120\n",
            "313/313 [==============================] - 5s 15ms/step - loss: 0.2259 - accuracy: 0.9126 - val_loss: 0.5188 - val_accuracy: 0.8240\n",
            "Epoch 77/120\n",
            "313/313 [==============================] - 5s 15ms/step - loss: 0.2069 - accuracy: 0.9214 - val_loss: 0.6036 - val_accuracy: 0.8230\n",
            "Epoch 78/120\n",
            "313/313 [==============================] - 5s 15ms/step - loss: 0.2214 - accuracy: 0.9112 - val_loss: 0.5385 - val_accuracy: 0.8250\n",
            "Epoch 79/120\n",
            "313/313 [==============================] - 5s 15ms/step - loss: 0.2157 - accuracy: 0.9186 - val_loss: 0.6058 - val_accuracy: 0.8230\n",
            "Epoch 80/120\n",
            "313/313 [==============================] - 5s 15ms/step - loss: 0.2121 - accuracy: 0.9154 - val_loss: 0.5913 - val_accuracy: 0.8270\n",
            "Epoch 81/120\n",
            "313/313 [==============================] - 5s 15ms/step - loss: 0.2254 - accuracy: 0.9134 - val_loss: 0.5387 - val_accuracy: 0.8220\n",
            "Epoch 82/120\n",
            "313/313 [==============================] - 5s 15ms/step - loss: 0.2177 - accuracy: 0.9122 - val_loss: 0.5633 - val_accuracy: 0.8210\n",
            "Epoch 83/120\n",
            "313/313 [==============================] - 5s 15ms/step - loss: 0.2182 - accuracy: 0.9168 - val_loss: 0.6206 - val_accuracy: 0.8280\n",
            "Epoch 84/120\n",
            "313/313 [==============================] - 5s 15ms/step - loss: 0.2168 - accuracy: 0.9135 - val_loss: 0.6221 - val_accuracy: 0.8270\n",
            "Epoch 85/120\n",
            "313/313 [==============================] - 5s 15ms/step - loss: 0.2132 - accuracy: 0.9181 - val_loss: 0.6338 - val_accuracy: 0.8180\n",
            "Epoch 86/120\n",
            "313/313 [==============================] - 5s 15ms/step - loss: 0.2155 - accuracy: 0.9140 - val_loss: 0.5949 - val_accuracy: 0.8250\n",
            "Epoch 87/120\n",
            "313/313 [==============================] - 5s 15ms/step - loss: 0.2124 - accuracy: 0.9181 - val_loss: 0.6545 - val_accuracy: 0.8180\n",
            "Epoch 88/120\n",
            "313/313 [==============================] - 5s 15ms/step - loss: 0.2167 - accuracy: 0.9160 - val_loss: 0.5867 - val_accuracy: 0.8260\n",
            "Epoch 89/120\n",
            "313/313 [==============================] - 5s 15ms/step - loss: 0.2030 - accuracy: 0.9203 - val_loss: 0.6293 - val_accuracy: 0.8260\n",
            "Epoch 90/120\n",
            "313/313 [==============================] - 5s 15ms/step - loss: 0.2122 - accuracy: 0.9195 - val_loss: 0.5794 - val_accuracy: 0.8130\n",
            "Epoch 91/120\n",
            "313/313 [==============================] - 5s 15ms/step - loss: 0.2140 - accuracy: 0.9147 - val_loss: 0.5759 - val_accuracy: 0.8240\n",
            "Epoch 92/120\n",
            "313/313 [==============================] - 5s 15ms/step - loss: 0.2069 - accuracy: 0.9170 - val_loss: 0.6172 - val_accuracy: 0.8170\n",
            "Epoch 93/120\n",
            "313/313 [==============================] - 5s 15ms/step - loss: 0.2044 - accuracy: 0.9202 - val_loss: 0.6302 - val_accuracy: 0.8190\n",
            "Epoch 94/120\n",
            "313/313 [==============================] - 5s 15ms/step - loss: 0.2071 - accuracy: 0.9165 - val_loss: 0.6437 - val_accuracy: 0.8230\n",
            "Epoch 95/120\n",
            "313/313 [==============================] - 5s 15ms/step - loss: 0.2050 - accuracy: 0.9214 - val_loss: 0.5917 - val_accuracy: 0.8170\n",
            "Epoch 96/120\n",
            "313/313 [==============================] - 5s 15ms/step - loss: 0.2122 - accuracy: 0.9161 - val_loss: 0.6044 - val_accuracy: 0.8310\n",
            "Epoch 97/120\n",
            "313/313 [==============================] - 5s 15ms/step - loss: 0.2036 - accuracy: 0.9238 - val_loss: 0.6365 - val_accuracy: 0.8240\n",
            "Epoch 98/120\n",
            "313/313 [==============================] - 5s 16ms/step - loss: 0.2083 - accuracy: 0.9185 - val_loss: 0.6329 - val_accuracy: 0.8210\n",
            "Epoch 99/120\n",
            "313/313 [==============================] - 5s 15ms/step - loss: 0.2108 - accuracy: 0.9205 - val_loss: 0.6118 - val_accuracy: 0.8290\n",
            "Epoch 100/120\n",
            "313/313 [==============================] - 5s 15ms/step - loss: 0.1992 - accuracy: 0.9234 - val_loss: 0.5886 - val_accuracy: 0.8290\n",
            "Epoch 101/120\n",
            "313/313 [==============================] - 5s 15ms/step - loss: 0.2063 - accuracy: 0.9212 - val_loss: 0.5778 - val_accuracy: 0.8310\n",
            "Epoch 102/120\n",
            "313/313 [==============================] - 5s 15ms/step - loss: 0.1979 - accuracy: 0.9250 - val_loss: 0.6529 - val_accuracy: 0.8350\n",
            "Epoch 103/120\n",
            "313/313 [==============================] - 5s 15ms/step - loss: 0.2065 - accuracy: 0.9215 - val_loss: 0.6853 - val_accuracy: 0.8240\n",
            "Epoch 104/120\n",
            "313/313 [==============================] - 5s 15ms/step - loss: 0.1976 - accuracy: 0.9234 - val_loss: 0.6000 - val_accuracy: 0.8220\n",
            "Epoch 105/120\n",
            "313/313 [==============================] - 5s 15ms/step - loss: 0.2009 - accuracy: 0.9211 - val_loss: 0.6531 - val_accuracy: 0.8200\n",
            "Epoch 106/120\n",
            "313/313 [==============================] - 5s 15ms/step - loss: 0.2003 - accuracy: 0.9245 - val_loss: 0.6667 - val_accuracy: 0.8140\n",
            "Epoch 107/120\n",
            "313/313 [==============================] - 5s 15ms/step - loss: 0.1988 - accuracy: 0.9238 - val_loss: 0.6051 - val_accuracy: 0.8220\n",
            "Epoch 108/120\n",
            "313/313 [==============================] - 5s 15ms/step - loss: 0.2001 - accuracy: 0.9229 - val_loss: 0.6064 - val_accuracy: 0.8250\n",
            "Epoch 109/120\n",
            "313/313 [==============================] - 5s 15ms/step - loss: 0.1929 - accuracy: 0.9253 - val_loss: 0.6572 - val_accuracy: 0.8280\n",
            "Epoch 110/120\n",
            "313/313 [==============================] - 5s 15ms/step - loss: 0.1968 - accuracy: 0.9251 - val_loss: 0.6194 - val_accuracy: 0.8260\n",
            "Epoch 111/120\n",
            "313/313 [==============================] - 5s 15ms/step - loss: 0.1845 - accuracy: 0.9288 - val_loss: 0.7062 - val_accuracy: 0.8290\n",
            "Epoch 112/120\n",
            "313/313 [==============================] - 5s 15ms/step - loss: 0.1918 - accuracy: 0.9266 - val_loss: 0.6674 - val_accuracy: 0.8260\n",
            "Epoch 113/120\n",
            "313/313 [==============================] - 5s 15ms/step - loss: 0.1905 - accuracy: 0.9266 - val_loss: 0.6262 - val_accuracy: 0.8200\n",
            "Epoch 114/120\n",
            "313/313 [==============================] - 5s 15ms/step - loss: 0.1954 - accuracy: 0.9249 - val_loss: 0.6263 - val_accuracy: 0.8190\n",
            "Epoch 115/120\n",
            "313/313 [==============================] - 5s 15ms/step - loss: 0.1991 - accuracy: 0.9261 - val_loss: 0.6430 - val_accuracy: 0.8300\n",
            "Epoch 116/120\n",
            "313/313 [==============================] - 5s 15ms/step - loss: 0.1859 - accuracy: 0.9293 - val_loss: 0.6248 - val_accuracy: 0.8320\n",
            "Epoch 117/120\n",
            "313/313 [==============================] - 5s 15ms/step - loss: 0.1858 - accuracy: 0.9248 - val_loss: 0.6670 - val_accuracy: 0.8220\n",
            "Epoch 118/120\n",
            "313/313 [==============================] - 5s 15ms/step - loss: 0.1962 - accuracy: 0.9276 - val_loss: 0.6338 - val_accuracy: 0.8250\n",
            "Epoch 119/120\n",
            "313/313 [==============================] - 5s 15ms/step - loss: 0.1838 - accuracy: 0.9293 - val_loss: 0.6800 - val_accuracy: 0.8350\n",
            "Epoch 120/120\n",
            "313/313 [==============================] - 5s 15ms/step - loss: 0.1904 - accuracy: 0.9281 - val_loss: 0.6557 - val_accuracy: 0.8290\n"
          ],
          "name": "stdout"
        }
      ]
    },
    {
      "cell_type": "markdown",
      "metadata": {
        "id": "BJg-UUxqosXj"
      },
      "source": [
        "#**Saving The Model**"
      ]
    },
    {
      "cell_type": "code",
      "metadata": {
        "collapsed": true,
        "id": "1KEwBNXKq7wT",
        "colab": {
          "base_uri": "https://localhost:8080/"
        },
        "outputId": "7ebfadf3-6d5a-403a-e0d2-2b523cb043ad"
      },
      "source": [
        "filename = 'chatbot_120_epochs.h5'\n",
        "model.save(filename)"
      ],
      "execution_count": null,
      "outputs": [
        {
          "output_type": "stream",
          "text": [
            "/usr/local/lib/python3.7/dist-packages/keras/utils/generic_utils.py:497: CustomMaskWarning: Custom mask layers require a config and must override get_config. When loading, the custom mask layer must be passed to the custom_objects argument.\n",
            "  category=CustomMaskWarning)\n"
          ],
          "name": "stderr"
        }
      ]
    },
    {
      "cell_type": "markdown",
      "metadata": {
        "id": "Wh33KGRRq7wU"
      },
      "source": [
        "## Evaluating the Model\n",
        "\n",
        "### Plotting Out Training History"
      ]
    },
    {
      "cell_type": "code",
      "metadata": {
        "id": "RWgI0Dzeq7wU",
        "colab": {
          "base_uri": "https://localhost:8080/",
          "height": 312
        },
        "outputId": "33844aed-6fd6-47ad-f80b-f592fc20cd46"
      },
      "source": [
        "import matplotlib.pyplot as plt\n",
        "%matplotlib inline\n",
        "print(history.history.keys())\n",
        "# summarize history for accuracy\n",
        "plt.plot(history.history['accuracy'])\n",
        "plt.plot(history.history['val_accuracy'])\n",
        "plt.title('model accuracy')\n",
        "plt.ylabel('accuracy')\n",
        "plt.xlabel('epoch')\n",
        "plt.legend(['train', 'test'], loc='upper left')\n",
        "plt.show()"
      ],
      "execution_count": 64,
      "outputs": [
        {
          "output_type": "stream",
          "text": [
            "dict_keys(['loss', 'accuracy', 'val_loss', 'val_accuracy'])\n"
          ],
          "name": "stdout"
        },
        {
          "output_type": "display_data",
          "data": {
            "image/png": "[encoded data removed]",
            "text/plain": [
              "<Figure size 432x288 with 1 Axes>"
            ]
          },
          "metadata": {
            "tags": [],
            "needs_background": "light"
          }
        }
      ]
    },
    {
      "cell_type": "markdown",
      "metadata": {
        "id": "fhp4SnkYq7wU"
      },
      "source": [
        "### Evaluating on Given Test Set"
      ]
    },
    {
      "cell_type": "code",
      "metadata": {
        "collapsed": true,
        "id": "Km-4sLJNq7wV"
      },
      "source": [
        "model.load_weights(filename)\n",
        "pred_results = model.predict(([inputs_test, queries_test]))"
      ],
      "execution_count": 65,
      "outputs": []
    },
    {
      "cell_type": "code",
      "metadata": {
        "id": "JgfhJmveq7wV"
      },
      "source": [
        "#test_data[0]"
      ],
      "execution_count": 66,
      "outputs": []
    },
    {
      "cell_type": "code",
      "metadata": {
        "id": "O_MC93dGq7wW",
        "colab": {
          "base_uri": "https://localhost:8080/"
        },
        "outputId": "e7c93b3f-c350-4269-a108-6956bfc8f449"
      },
      "source": [
        "story =' '.join(word for word in test_data[0][0])\n",
        "print(story)"
      ],
      "execution_count": 67,
      "outputs": [
        {
          "output_type": "stream",
          "text": [
            "Mary got the milk there . John moved to the bedroom .\n"
          ],
          "name": "stdout"
        }
      ]
    },
    {
      "cell_type": "code",
      "metadata": {
        "id": "cka351haq7wX",
        "colab": {
          "base_uri": "https://localhost:8080/"
        },
        "outputId": "ec55d3d7-e02a-49ab-dbc2-2d76f5006f28"
      },
      "source": [
        "query = ' '.join(word for word in test_data[0][1])\n",
        "print(query)"
      ],
      "execution_count": 68,
      "outputs": [
        {
          "output_type": "stream",
          "text": [
            "Is John in the kitchen ?\n"
          ],
          "name": "stdout"
        }
      ]
    },
    {
      "cell_type": "code",
      "metadata": {
        "id": "PX3H3GGQq7wY",
        "colab": {
          "base_uri": "https://localhost:8080/"
        },
        "outputId": "7954dc99-2210-4ade-913c-c849390e49f9"
      },
      "source": [
        "print(\"True Test Answer from Data is:\",test_data[0][2])"
      ],
      "execution_count": 69,
      "outputs": [
        {
          "output_type": "stream",
          "text": [
            "True Test Answer from Data is: no\n"
          ],
          "name": "stdout"
        }
      ]
    },
    {
      "cell_type": "code",
      "metadata": {
        "id": "g7lfm0T4q7wZ",
        "colab": {
          "base_uri": "https://localhost:8080/"
        },
        "outputId": "bca9b5c6-2441-47e3-8d24-72ee7699d730"
      },
      "source": [
        "#Generate prediction from model\n",
        "val_max = np.argmax(pred_results[0])\n",
        "\n",
        "for key, val in tokenizer.word_index.items():\n",
        "    if val == val_max:\n",
        "        k = key\n",
        "\n",
        "print(\"Predicted answer is: \", k) \n",
        "print(\"Probability of certainty was: \", pred_results[0][val_max])"
      ],
      "execution_count": 70,
      "outputs": [
        {
          "output_type": "stream",
          "text": [
            "Predicted answer is:  no\n",
            "Probability of certainty was:  0.99758375\n"
          ],
          "name": "stdout"
        }
      ]
    },
    {
      "cell_type": "markdown",
      "metadata": {
        "id": "ajv4rYsvq7wZ"
      },
      "source": [
        "## Writing Your Own Stories and Questions\n",
        "\n",
        "Remember you can only use words from the existing vocab"
      ]
    },
    {
      "cell_type": "code",
      "metadata": {
        "id": "A6-DohVIq7wZ",
        "colab": {
          "base_uri": "https://localhost:8080/"
        },
        "outputId": "96bac07c-9c50-4217-bae5-790f8e32268c"
      },
      "source": [
        "vocab"
      ],
      "execution_count": 71,
      "outputs": [
        {
          "output_type": "execute_result",
          "data": {
            "text/plain": [
              "{'.',\n",
              " '?',\n",
              " 'Daniel',\n",
              " 'Is',\n",
              " 'John',\n",
              " 'Mary',\n",
              " 'Sandra',\n",
              " 'apple',\n",
              " 'back',\n",
              " 'bathroom',\n",
              " 'bedroom',\n",
              " 'discarded',\n",
              " 'down',\n",
              " 'dropped',\n",
              " 'football',\n",
              " 'garden',\n",
              " 'got',\n",
              " 'grabbed',\n",
              " 'hallway',\n",
              " 'in',\n",
              " 'journeyed',\n",
              " 'kitchen',\n",
              " 'left',\n",
              " 'milk',\n",
              " 'moved',\n",
              " 'no',\n",
              " 'office',\n",
              " 'picked',\n",
              " 'put',\n",
              " 'the',\n",
              " 'there',\n",
              " 'to',\n",
              " 'took',\n",
              " 'travelled',\n",
              " 'up',\n",
              " 'went',\n",
              " 'yes'}"
            ]
          },
          "metadata": {
            "tags": []
          },
          "execution_count": 71
        }
      ]
    },
    {
      "cell_type": "code",
      "metadata": {
        "id": "B6R2Guw6q7wa",
        "colab": {
          "base_uri": "https://localhost:8080/"
        },
        "outputId": "9b0adaef-1ed9-4bb5-9eed-ded6d013a714"
      },
      "source": [
        "# Note the whitespace of the periods\n",
        "my_story = \"John left the kitchen . Sandra dropped the football in the garden .\"\n",
        "my_story.split()"
      ],
      "execution_count": 72,
      "outputs": [
        {
          "output_type": "execute_result",
          "data": {
            "text/plain": [
              "['John',\n",
              " 'left',\n",
              " 'the',\n",
              " 'kitchen',\n",
              " '.',\n",
              " 'Sandra',\n",
              " 'dropped',\n",
              " 'the',\n",
              " 'football',\n",
              " 'in',\n",
              " 'the',\n",
              " 'garden',\n",
              " '.']"
            ]
          },
          "metadata": {
            "tags": []
          },
          "execution_count": 72
        }
      ]
    },
    {
      "cell_type": "code",
      "metadata": {
        "collapsed": true,
        "id": "avy_1AAEq7wa"
      },
      "source": [
        "my_question = \"Is the football in the garden ?\""
      ],
      "execution_count": 73,
      "outputs": []
    },
    {
      "cell_type": "code",
      "metadata": {
        "id": "PUGOEsKAq7wb",
        "colab": {
          "base_uri": "https://localhost:8080/"
        },
        "outputId": "983b1410-7aa2-4f8c-e954-d66d8c011536"
      },
      "source": [
        "my_question.split()"
      ],
      "execution_count": 74,
      "outputs": [
        {
          "output_type": "execute_result",
          "data": {
            "text/plain": [
              "['Is', 'the', 'football', 'in', 'the', 'garden', '?']"
            ]
          },
          "metadata": {
            "tags": []
          },
          "execution_count": 74
        }
      ]
    },
    {
      "cell_type": "code",
      "metadata": {
        "collapsed": true,
        "id": "SBJ7XjAYq7wb"
      },
      "source": [
        "mydata = [(my_story.split(),my_question.split(),'yes')]"
      ],
      "execution_count": 75,
      "outputs": []
    },
    {
      "cell_type": "code",
      "metadata": {
        "collapsed": true,
        "id": "yMRUcRIuq7wb"
      },
      "source": [
        "my_story,my_ques,my_ans = vectorize_stories(mydata)"
      ],
      "execution_count": 76,
      "outputs": []
    },
    {
      "cell_type": "code",
      "metadata": {
        "collapsed": true,
        "id": "VUqpJdSAq7wc"
      },
      "source": [
        "pred_results = model.predict(([ my_story, my_ques]))"
      ],
      "execution_count": 77,
      "outputs": []
    },
    {
      "cell_type": "code",
      "metadata": {
        "id": "SPqlSyrRq7wc",
        "colab": {
          "base_uri": "https://localhost:8080/"
        },
        "outputId": "012f3ad0-0e4d-4603-872d-1afb478dbd0b"
      },
      "source": [
        "#Generate prediction from model\n",
        "val_max = np.argmax(pred_results[0])\n",
        "\n",
        "for key, val in tokenizer.word_index.items():\n",
        "    if val == val_max:\n",
        "        k = key\n",
        "\n",
        "print(\"Predicted answer is: \", k)\n",
        "print(\"Probability of certainty was: \", pred_results[0][val_max])"
      ],
      "execution_count": 78,
      "outputs": [
        {
          "output_type": "stream",
          "text": [
            "Predicted answer is:  yes\n",
            "Probability of certainty was:  0.9996208\n"
          ],
          "name": "stdout"
        }
      ]
    }
  ]
}